{
  "nbformat": 4,
  "nbformat_minor": 0,
  "metadata": {
    "colab": {
      "provenance": []
    },
    "kernelspec": {
      "name": "python3",
      "display_name": "Python 3"
    },
    "language_info": {
      "name": "python"
    }
  },
  "cells": [
    {
      "cell_type": "code",
      "source": [
        "user = input(\"enter your name: \")\n",
        "accountbalance = 12000\n",
        "masked = user[:3] + \"******\"\n",
        "options = [1,2,3,4]\n",
        "\n",
        "print(\"1. Balance Inquiry\")\n",
        "print(\"2. Withdraw Money\")\n",
        "print(\"3. Desposit Money\")\n",
        "print(\"4. Exit\")\n",
        "\n",
        "\n",
        "try:\n",
        "    opr= int(input(\"Enter Option\"))\n",
        "    if opr == 1:\n",
        "        print(f\"{masked} account balance is: {accountbalance}\")\n",
        "\n",
        "    elif opr == 2:\n",
        "        withdraw = int(input(\"enter your withdraw amount\"))\n",
        "        if withdraw <= 12000:\n",
        "            accountbalance = accountbalance - withdraw\n",
        "            print(\"your transaction is being processed, your new balance is:\", accountbalance)\n",
        "        else:\n",
        "            print(\"please enter a valid amount\")\n",
        "\n",
        "    elif opr == 3:\n",
        "        dep = int(input(\"enter your deposit amount\"))\n",
        "        accountbalance = accountbalance + dep\n",
        "        print(\"amount deposited, your account balance is:\", accountbalance)\n",
        "\n",
        "    elif opr == 4:\n",
        "        print(\"thankyou for using this ATM\")\n",
        "\n",
        "    else:\n",
        "        print(\"Please Enter a valid option\")\n",
        "\n",
        "except ValueError:\n",
        "  print(\"Please Enter a number\")\n",
        "\n"
      ],
      "metadata": {
        "id": "e9GS0W1EQbA3",
        "colab": {
          "base_uri": "https://localhost:8080/"
        },
        "outputId": "a0a0e246-60f7-47a9-aaa1-b67356688782"
      },
      "execution_count": 18,
      "outputs": [
        {
          "output_type": "stream",
          "name": "stdout",
          "text": [
            "enter your name: 3\n",
            "1. Balance Inquiry\n",
            "2. Withdraw Money\n",
            "3. Desposit Money\n",
            "4. Exit\n",
            "Enter Option3\n",
            "enter your deposit amount300\n",
            "amount deposited, your account balance is: 12300\n"
          ]
        }
      ]
    }
  ]
}